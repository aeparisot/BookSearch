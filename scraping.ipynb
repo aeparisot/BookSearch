{
 "cells": [
  {
   "cell_type": "code",
   "execution_count": 28,
   "id": "da438dc9-5761-4c03-9929-372b4ba1bf89",
   "metadata": {
    "tags": []
   },
   "outputs": [
    {
     "name": "stdout",
     "output_type": "stream",
     "text": [
      "b'TphjNX819JOSOO07d*XqxJ(wCOUkyIUvQGB7OPGc]e*7o6GGKGnp1v10!R00qY5zY$5%7R0#SDfKqGCaw]Obj&wQl$4qnvYLdSysmA^vZUAI16fP7vPNfKV2IVj3s@%20^yW#2iVlIY[t]AbTW1Sm$g6&9ROZyS(#2s7UmqUwaIIy0BX0Ue8v%$pOuLe53xvJlc7nHFYqmK@W1OqvzH(k29(Gb^DLggMOi*3]5CT2abvz5Q)rDzOV[&pcgjWN5q(JudiC2CRaE1)6W1%Z#R$mG@Ms*lDKR]f$KZy]$#VOBL5]LKnQoQej8We&6t!gR1#gHHaE$PFMVl^1B(&PAWWFt2buG!12u$@yTfGBSZDAQevR%v&aFLoYKxo003Cjcvw[J&ot5aQqX0OD)ADhun20A^5eV8V$6H*(XrNbyhj9Xx!LpmPDQ3z$@isbXbKS#AG8Bty$pT)$B6gKQDNCYzn4wCfL3zHLIvay1d6)KUKcpZivXMIxaKBtGlzw9pD91C*2z&[1fhlWSL^L2q0xQ11W5oS[17cFL)z$W(LO3MY$qazT6KTsN^H)lp($)qcFUagF9x4DW$mjxjEYnxTVin7N5DhDHXFtS4]Y5WTKvmfHyoyNj8G#Hw[]A$uQj%u3[(cJAWN(I9n4UtHpq%*kHY%OvoGGFqJq4cHrJOvBYsR!8vCMKMoG1MLMWZrjb$YqH3!]stMIEZcg7LgWOEm^Cd[klbiAcWY^8kava2Ian5h10w1[0[kB2c@k)hwUSl[p2]KUh2x0XHqGg]5%A@$GS$BcRiP@GS#hLD)Z(^oi9r73]0cthLZEJPBETUXOHGaZVvvzSh&m&uJQmJBOGAxLQ)9zC[l[8hfKo8Y%sATYauO!lFT[bDMOdnyP9DvXc2!NZu1LKNMLsFcGelONDTRIZw]@npmq7bp20P42^XhtyLb)hJsg1(lv)bBi!QF8Eclb(V0P(J6S$vdp@t)8sMc --></div></body></html>'\n",
      "<class 'requests.models.Response'>\n"
     ]
    }
   ],
   "source": [
    "import requests\n",
    "\n",
    "url = 'https://www.goodreads.com/book/show/200776812/reviews?reviewFilters=eyJhZnRlciI6Ik1UUXpNek1zTVRjeE56Y3hOelF4TnpBME1nIn0%3D'\n",
    "\n",
    "r = requests.get(url)\n",
    "\n",
    "print(r.content[-1000:])\n",
    "print(type(r))"
   ]
  },
  {
   "cell_type": "code",
   "execution_count": 5,
   "id": "61e57871-81ea-4163-b413-6100ccdfa4f2",
   "metadata": {
    "tags": []
   },
   "outputs": [],
   "source": [
    "from bs4 import BeautifulSoup\n",
    "\n",
    "soup = BeautifulSoup(r.content, 'html.parser')\n"
   ]
  },
  {
   "cell_type": "code",
   "execution_count": 50,
   "id": "20b5576d-8e5c-4803-9188-fe0349343859",
   "metadata": {
    "tags": []
   },
   "outputs": [],
   "source": [
    "reviews = soup.select('.ReviewText__content')\n",
    "review_1 = soup.select_one('.ReviewText__content')\n"
   ]
  },
  {
   "cell_type": "code",
   "execution_count": null,
   "id": "7e53eb7f-7487-4c24-b105-df792d6f86ae",
   "metadata": {},
   "outputs": [],
   "source": [
    "## Need to click show more for every review,\n",
    "## need to click show spoilers\n",
    "## need to click load more\n",
    "button_element = driver.find_element(By.XPATH, \"//label[contains(text(), 'Show more')]/preceding-sibling::button\")"
   ]
  },
  {
   "cell_type": "code",
   "execution_count": 51,
   "id": "e0e21ab0-dc0d-4ade-9524-6ebad811e223",
   "metadata": {
    "tags": []
   },
   "outputs": [
    {
     "name": "stdout",
     "output_type": "stream",
     "text": [
      "Message: ; For documentation on this error, please visit: https://www.selenium.dev/documentation/webdriver/troubleshooting/errors#nosuchelementexception\n",
      "\n",
      "No more products to load.\n"
     ]
    }
   ],
   "source": [
    "from selenium import webdriver\n",
    "from selenium.webdriver.common.by import By\n",
    "import time\n",
    "# Set up the WebDriver (make sure you have the appropriate driver installed, e.g., ChromeDriver)\n",
    "# driver = webdriver.Chrome()\n",
    "button_id = 'M8.70710678,9.27397892 C8.31658249,8.90867369 7.68341751,8.90867369 \\\n",
    "    7.29289322,9.27397892 C6.90236893,9.63928415 6.90236893,10.2315609 7.29289322,10.5968662 L12,15 L16.7071068,10.5968662 \\\n",
    "    C17.0976311,10.2315609 17.0976311,9.63928415 16.7071068,9.27397892 C16.3165825,8.90867369 15.6834175,8.90867369 15.2928932, \\\n",
    "    9.27397892 L12,12.3542255 L8.70710678,9.27397892 Z'\n",
    "\n",
    "driver = webdriver.Safari()\n",
    "# Open the page\n",
    "driver.get(\"https://www.goodreads.com/book/show/200776812/reviews?reviewFilters=eyJhZnRlciI6Ik1UUXpNek1zTVRjeE56Y3hOelF4TnpBME1nIn0%3D\")\n",
    "# Loop to click the \"Load More\" button until there are no more products\n",
    "while True:\n",
    "    try:\n",
    "        # Find the \"Load more\" button by its ID and click it\n",
    "        load_more_button = driver.find_element(By.XPATH, \"//label[contains(text(), 'Show more')]/preceding-sibling::button\")\n",
    "        load_more_button.click()\n",
    "        # Wait for the content to load (adjust time as necessary)\n",
    "        time.sleep(5)\n",
    "    except Exception as e:\n",
    "        # If no \"Load More\" button is found (end of products), break out of the loop\n",
    "        print(e)\n",
    "        print(\"No more products to load.\")\n",
    "        break\n",
    "# Get the updated page content after all products are loaded\n",
    "html_content = driver.page_source\n",
    "\n",
    "# element_by_class = driver.find_element(By.CLASS_NAME, \"ReviewText__content\")\n",
    "# Close the browser window\n",
    "\n",
    "driver.quit()\n",
    "\n",
    "\n",
    "\n",
    "\n"
   ]
  },
  {
   "cell_type": "code",
   "execution_count": 43,
   "id": "ea171e15-d821-4f42-9f53-6a53232128cf",
   "metadata": {
    "tags": []
   },
   "outputs": [
    {
     "data": {
      "text/plain": [
       "15428"
      ]
     },
     "execution_count": 43,
     "metadata": {},
     "output_type": "execute_result"
    }
   ],
   "source": [
    "html_content.find('Butter')"
   ]
  },
  {
   "cell_type": "code",
   "execution_count": 37,
   "id": "d70cc4ea-c8fe-40c2-a1ba-6c32dcf9d93e",
   "metadata": {
    "tags": []
   },
   "outputs": [
    {
     "name": "stdout",
     "output_type": "stream",
     "text": [
      "Unexpected exception formatting exception. Falling back to standard exception\n"
     ]
    },
    {
     "name": "stderr",
     "output_type": "stream",
     "text": [
      "Traceback (most recent call last):\n",
      "  File \"/Users/abiparisot/anaconda3/lib/python3.11/site-packages/urllib3/connection.py\", line 174, in _new_conn\n",
      "    lookup with the trailing dot will properly only resolve the appropriate FQDN,\n",
      "               ^^^^^^^^^^^^^^^^^^^^^^^^^^^^^^^^^^^^^^^^^^^^^^^^^^^^^^^^^^^^^^^^^^\n",
      "  File \"/Users/abiparisot/anaconda3/lib/python3.11/site-packages/urllib3/util/connection.py\", line 95, in create_connection\n",
      "    ) -> None:\n",
      "            ^^^\n",
      "  File \"/Users/abiparisot/anaconda3/lib/python3.11/site-packages/urllib3/util/connection.py\", line 85, in create_connection\n",
      "    raise err\n",
      "ConnectionRefusedError: [Errno 61] Connection refused\n",
      "\n",
      "During handling of the above exception, another exception occurred:\n",
      "\n",
      "Traceback (most recent call last):\n",
      "  File \"/Users/abiparisot/anaconda3/lib/python3.11/site-packages/urllib3/connectionpool.py\", line 714, in urlopen\n",
      "    if release_conn is None:\n",
      "                           ^\n",
      "  File \"/Users/abiparisot/anaconda3/lib/python3.11/site-packages/urllib3/connectionpool.py\", line 415, in _make_request\n",
      "    Configure the number of retries to allow before raising a\n",
      "        ^^^^^^^^^^^^^^^^^^^^^^^^^^^^^^^^^^^^^^^^^^^^^^^\n",
      "  File \"/Users/abiparisot/anaconda3/lib/python3.11/site-packages/urllib3/connection.py\", line 244, in request\n",
      "    # `_tunnel` copied from 3.11.13 backporting\n",
      "  File \"/Users/abiparisot/anaconda3/lib/python3.11/http/client.py\", line 1286, in request\n",
      "    self._send_request(method, url, body, headers, encode_chunked)\n",
      "  File \"/Users/abiparisot/anaconda3/lib/python3.11/http/client.py\", line 1332, in _send_request\n",
      "    self.endheaders(body, encode_chunked=encode_chunked)\n",
      "  File \"/Users/abiparisot/anaconda3/lib/python3.11/http/client.py\", line 1281, in endheaders\n",
      "    self._send_output(message_body, encode_chunked=encode_chunked)\n",
      "  File \"/Users/abiparisot/anaconda3/lib/python3.11/http/client.py\", line 1041, in _send_output\n",
      "    self.send(msg)\n",
      "  File \"/Users/abiparisot/anaconda3/lib/python3.11/http/client.py\", line 979, in send\n",
      "    self.connect()\n",
      "  File \"/Users/abiparisot/anaconda3/lib/python3.11/site-packages/urllib3/connection.py\", line 205, in connect\n",
      "    raise NameResolutionError(self.host, self, e) from e\n",
      "       ^^^^^^^^^^^^^^^^\n",
      "  File \"/Users/abiparisot/anaconda3/lib/python3.11/site-packages/urllib3/connection.py\", line 186, in _new_conn\n",
      "urllib3.exceptions.NewConnectionError: <urllib3.connection.HTTPConnection object at 0x111a344d0>: Failed to establish a new connection: [Errno 61] Connection refused\n",
      "\n",
      "During handling of the above exception, another exception occurred:\n",
      "\n",
      "Traceback (most recent call last):\n",
      "  File \"/Users/abiparisot/anaconda3/lib/python3.11/site-packages/IPython/core/interactiveshell.py\", line 3505, in run_code\n",
      "    exec(code_obj, self.user_global_ns, self.user_ns)\n",
      "  File \"/var/folders/yz/cnxky9sj27g595pkrp6nppyc0000gn/T/ipykernel_2483/3366661575.py\", line 1, in <module>\n",
      "    element_by_class = driver.find_element(By.CLASS_NAME, \"ReviewText__content\")\n",
      "                       ^^^^^^^^^^^^^^^^^^^^^^^^^^^^^^^^^^^^^^^^^^^^^^^^^^^^^^^^^\n",
      "  File \"/Users/abiparisot/anaconda3/lib/python3.11/site-packages/selenium/webdriver/remote/webdriver.py\", line 926, in find_element\n",
      "    return self.execute(Command.FIND_ELEMENT, {\"using\": by, \"value\": value})[\"value\"]\n",
      "           ^^^^^^^^^^^^^^^^^^^^^^^^^^^^^^^^^^^^^^^^^^^^^^^^^^^^^^^^^^^^^^^^^\n",
      "  File \"/Users/abiparisot/anaconda3/lib/python3.11/site-packages/selenium/webdriver/remote/webdriver.py\", line 455, in execute\n",
      "    response = cast(RemoteConnection, self.command_executor).execute(driver_command, params)\n",
      "               ^^^^^^^^^^^^^^^^^^^^^^^^^^^^^^^^^^^^^^^^^^^^^^^^^^^^^^^^^^^^^^^^^^^^^^^^^^^^^\n",
      "  File \"/Users/abiparisot/anaconda3/lib/python3.11/site-packages/selenium/webdriver/remote/remote_connection.py\", line 406, in execute\n",
      "    return self._request(command_info[0], url, body=data)\n",
      "           ^^^^^^^^^^^^^^^^^^^^^^^^^^^^^^^^^^^^^^^^^^^^^^\n",
      "  File \"/Users/abiparisot/anaconda3/lib/python3.11/site-packages/selenium/webdriver/remote/remote_connection.py\", line 430, in _request\n",
      "    response = self._conn.request(method, url, body=body, headers=headers, timeout=self._client_config.timeout)\n",
      "               ^^^^^^^^^^^^^^^^^^^^^^^^^^^^^^^^^^^^^^^^^^^^^^^^^^^^^^^^^^^^^^^^^^^^^^^^^^^^^^^^^^^^^^^^^^^^^^^^\n",
      "  File \"/Users/abiparisot/anaconda3/lib/python3.11/site-packages/urllib3/request.py\", line 78, in request\n",
      "  File \"/Users/abiparisot/anaconda3/lib/python3.11/site-packages/urllib3/request.py\", line 170, in request_encode_body\n",
      "  File \"/Users/abiparisot/anaconda3/lib/python3.11/site-packages/urllib3/poolmanager.py\", line 376, in urlopen\n",
      "    Similar to :func:`urllib3.connectionpool.connection_from_url`.\n",
      "                   ^^^^^^^^^^^^^^^^^^^^^^^^^^^^^^^^^^^^^^^^^\n",
      "  File \"/Users/abiparisot/anaconda3/lib/python3.11/site-packages/urllib3/connectionpool.py\", line 826, in urlopen\n",
      "    new_e = SSLError(e)\n",
      "       ^^^^^^^^^^^^^^^^\n",
      "  File \"/Users/abiparisot/anaconda3/lib/python3.11/site-packages/urllib3/connectionpool.py\", line 826, in urlopen\n",
      "    new_e = SSLError(e)\n",
      "       ^^^^^^^^^^^^^^^^\n",
      "  File \"/Users/abiparisot/anaconda3/lib/python3.11/site-packages/urllib3/connectionpool.py\", line 826, in urlopen\n",
      "    new_e = SSLError(e)\n",
      "       ^^^^^^^^^^^^^^^^\n",
      "  File \"/Users/abiparisot/anaconda3/lib/python3.11/site-packages/urllib3/connectionpool.py\", line 798, in urlopen\n",
      "    decode_content=decode_content,\n",
      "          ^^^^^^^^^^^^^^^^^^^^^^^^\n",
      "  File \"/Users/abiparisot/anaconda3/lib/python3.11/site-packages/urllib3/util/retry.py\", line 592, in increment\n",
      "urllib3.exceptions.MaxRetryError: HTTPConnectionPool(host='localhost', port=51854): Max retries exceeded with url: /session/A53055B5-EF1F-466D-8714-C0C1BC97C6F1/element (Caused by NewConnectionError('<urllib3.connection.HTTPConnection object at 0x111a344d0>: Failed to establish a new connection: [Errno 61] Connection refused'))\n",
      "\n",
      "During handling of the above exception, another exception occurred:\n",
      "\n",
      "Traceback (most recent call last):\n",
      "  File \"/Users/abiparisot/anaconda3/lib/python3.11/site-packages/IPython/core/interactiveshell.py\", line 2102, in showtraceback\n",
      "    stb = self.InteractiveTB.structured_traceback(\n",
      "          ^^^^^^^^^^^^^^^^^^^^^^^^^^^^^^^^^^^^^^^^\n",
      "  File \"/Users/abiparisot/anaconda3/lib/python3.11/site-packages/IPython/core/ultratb.py\", line 1310, in structured_traceback\n",
      "    return FormattedTB.structured_traceback(\n",
      "           ^^^^^^^^^^^^^^^^^^^^^^^^^^^^^^^^^\n",
      "  File \"/Users/abiparisot/anaconda3/lib/python3.11/site-packages/IPython/core/ultratb.py\", line 1199, in structured_traceback\n",
      "    return VerboseTB.structured_traceback(\n",
      "           ^^^^^^^^^^^^^^^^^^^^^^^^^^^^^^^\n",
      "  File \"/Users/abiparisot/anaconda3/lib/python3.11/site-packages/IPython/core/ultratb.py\", line 1052, in structured_traceback\n",
      "    formatted_exception = self.format_exception_as_a_whole(etype, evalue, etb, number_of_lines_of_context,\n",
      "                          ^^^^^^^^^^^^^^^^^^^^^^^^^^^^^^^^^^^^^^^^^^^^^^^^^^^^^^^^^^^^^^^^^^^^^^^^^^^^^^^^\n",
      "  File \"/Users/abiparisot/anaconda3/lib/python3.11/site-packages/IPython/core/ultratb.py\", line 978, in format_exception_as_a_whole\n",
      "    frames.append(self.format_record(record))\n",
      "                  ^^^^^^^^^^^^^^^^^^^^^^^^^^\n",
      "  File \"/Users/abiparisot/anaconda3/lib/python3.11/site-packages/IPython/core/ultratb.py\", line 878, in format_record\n",
      "    frame_info.lines, Colors, self.has_colors, lvals\n",
      "    ^^^^^^^^^^^^^^^^\n",
      "  File \"/Users/abiparisot/anaconda3/lib/python3.11/site-packages/IPython/core/ultratb.py\", line 712, in lines\n",
      "    return self._sd.lines\n",
      "           ^^^^^^^^^^^^^^\n",
      "  File \"/Users/abiparisot/anaconda3/lib/python3.11/site-packages/stack_data/utils.py\", line 145, in cached_property_wrapper\n",
      "    value = obj.__dict__[self.func.__name__] = self.func(obj)\n",
      "                                               ^^^^^^^^^^^^^^\n",
      "  File \"/Users/abiparisot/anaconda3/lib/python3.11/site-packages/stack_data/core.py\", line 698, in lines\n",
      "    pieces = self.included_pieces\n",
      "             ^^^^^^^^^^^^^^^^^^^^\n",
      "  File \"/Users/abiparisot/anaconda3/lib/python3.11/site-packages/stack_data/utils.py\", line 145, in cached_property_wrapper\n",
      "    value = obj.__dict__[self.func.__name__] = self.func(obj)\n",
      "                                               ^^^^^^^^^^^^^^\n",
      "  File \"/Users/abiparisot/anaconda3/lib/python3.11/site-packages/stack_data/core.py\", line 649, in included_pieces\n",
      "    pos = scope_pieces.index(self.executing_piece)\n",
      "                             ^^^^^^^^^^^^^^^^^^^^\n",
      "  File \"/Users/abiparisot/anaconda3/lib/python3.11/site-packages/stack_data/utils.py\", line 145, in cached_property_wrapper\n",
      "    value = obj.__dict__[self.func.__name__] = self.func(obj)\n",
      "                                               ^^^^^^^^^^^^^^\n",
      "  File \"/Users/abiparisot/anaconda3/lib/python3.11/site-packages/stack_data/core.py\", line 628, in executing_piece\n",
      "    return only(\n",
      "           ^^^^^\n",
      "  File \"/Users/abiparisot/anaconda3/lib/python3.11/site-packages/executing/executing.py\", line 164, in only\n",
      "    raise NotOneValueFound('Expected one value, found 0')\n",
      "executing.executing.NotOneValueFound: Expected one value, found 0\n"
     ]
    }
   ],
   "source": []
  },
  {
   "cell_type": "code",
   "execution_count": null,
   "id": "c546d947-7801-439f-a6cc-c20921329186",
   "metadata": {
    "tags": []
   },
   "outputs": [],
   "source": []
  },
  {
   "cell_type": "code",
   "execution_count": null,
   "id": "2ccbb969-9fbf-4b5c-94b9-4305c1d5535d",
   "metadata": {},
   "outputs": [],
   "source": []
  }
 ],
 "metadata": {
  "kernelspec": {
   "display_name": "Python 3 (ipykernel)",
   "language": "python",
   "name": "python3"
  },
  "language_info": {
   "codemirror_mode": {
    "name": "ipython",
    "version": 3
   },
   "file_extension": ".py",
   "mimetype": "text/x-python",
   "name": "python",
   "nbconvert_exporter": "python",
   "pygments_lexer": "ipython3",
   "version": "3.11.4"
  }
 },
 "nbformat": 4,
 "nbformat_minor": 5
}
